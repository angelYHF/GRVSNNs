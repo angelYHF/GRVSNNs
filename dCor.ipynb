{
 "cells": [
  {
   "cell_type": "code",
   "execution_count": null,
   "metadata": {
    "id": "Xsix0whIhHps"
   },
   "outputs": [],
   "source": []
  },
  {
   "cell_type": "code",
   "execution_count": null,
   "metadata": {
    "colab": {
     "base_uri": "https://localhost:8080/"
    },
    "executionInfo": {
     "elapsed": 1207,
     "status": "ok",
     "timestamp": 1748785211947,
     "user": {
      "displayName": "hua Yu",
      "userId": "07626386458469956541"
     },
     "user_tz": -180
    },
    "id": "DSwXd6BdeVwN",
    "outputId": "df96ba0c-d547-4e1b-d1a9-a3892b8fdd6a"
   },
   "outputs": [],
   "source": [
    "import pandas as pd\n",
    "import numpy as np\n",
    "import dcor\n",
    "\n",
    "\n",
    "excel_file_path = ''\n",
    "df = pd.read_excel(excel_file_path)\n",
    "\n",
    "\n",
    "for col in df.columns:\n",
    "    df[col] = pd.to_numeric(df[col], errors='coerce')\n",
    "\n",
    "\n",
    "for col in df.columns:\n",
    "    if df[col].isnull().any() and pd.api.types.is_numeric_dtype(df[col]):\n",
    "        df[col] = df[col].fillna(df[col].mean())\n",
    "\n",
    "\n",
    "df = df.replace([np.inf, -np.inf], np.nan)\n",
    "for col in df.columns:\n",
    "    if df[col].isnull().any() and pd.api.types.is_numeric_dtype(df[col]):\n",
    "        df[col] = df[col].fillna(df[col].mean())\n",
    "\n",
    "observed_column_name = df.columns[0] \n",
    "if isinstance(observed_column_name, (int, float)): \n",
    "    observed_column_name = \"Observed_Trait_LL09\" \n",
    "observed = df.iloc[:, 0]\n",
    "\n",
    "method_names = [\n",
    "    \"GRSVNN\",\n",
    "    \"LassoNet\",\n",
    "    \"Blasso\",\n",
    "    \"BRR\",\n",
    "    \"BayesianCpi\",\n",
    "    \"GRSVNN_pedi\",\n",
    "    \"LassoNet_pedi\",\n",
    "    \"Blasso_pedi\",\n",
    "    \"BRR_pedi\",\n",
    "    \"BayesianCpi_pedi\"\n",
    "]\n",
    "\n",
    "\n",
    "dcor_results_list = []\n",
    "\n",
    "for i in range(1, len(method_names) + 1): \n",
    "    \n",
    "    predicted_column = df.iloc[:, i]\n",
    "\n",
    "    current_method_name = method_names[i-1]\n",
    "\n",
    "    \n",
    "    if not pd.api.types.is_numeric_dtype(observed) or not pd.api.types.is_numeric_dtype(predicted_column):\n",
    "        print(f\"Skipping dCor for Method '{current_method_name}' due to non-numeric data after cleaning.\")\n",
    "        continue\n",
    "\n",
    "    \n",
    "    dcor_value = dcor.distance_correlation(observed, predicted_column)\n",
    "\n",
    "    \n",
    "    dcor_results_list.append({\n",
    "        'Observed Trait': observed_column_name,\n",
    "        'Prediction Method': current_method_name,\n",
    "        'dCor Value': dcor_value\n",
    "    })\n",
    "\n",
    "\n",
    "dcor_df = pd.DataFrame(dcor_results_list)\n",
    "\n",
    "\n",
    "output_file_path = ''\n",
    "dcor_df.to_csv(output_file_path, index=False)\n",
    "\n",
    "print(f\"dCor values for method performance calculated and saved to {output_file_path}\")\n",
    "print(\"\\nCalculated dCor values for Method Performance:\")\n",
    "print(dcor_df)"
   ]
  },
  {
   "cell_type": "code",
   "execution_count": null,
   "metadata": {
    "id": "vbpEiwjUeVtL"
   },
   "outputs": [],
   "source": []
  },
  {
   "cell_type": "code",
   "execution_count": null,
   "metadata": {
    "id": "Un6jvQQ_eVqr"
   },
   "outputs": [],
   "source": []
  },
  {
   "cell_type": "code",
   "execution_count": null,
   "metadata": {
    "id": "NEeZtXyNeVor"
   },
   "outputs": [],
   "source": []
  },
  {
   "cell_type": "code",
   "execution_count": null,
   "metadata": {
    "id": "c5jNBvfeeVlz"
   },
   "outputs": [],
   "source": []
  },
  {
   "cell_type": "code",
   "execution_count": null,
   "metadata": {
    "id": "717xSshbeVjT"
   },
   "outputs": [],
   "source": []
  },
  {
   "cell_type": "code",
   "execution_count": null,
   "metadata": {
    "id": "VGzXLKLPeVg7"
   },
   "outputs": [],
   "source": []
  },
  {
   "cell_type": "code",
   "execution_count": null,
   "metadata": {
    "id": "RkN-_rhNeVej"
   },
   "outputs": [],
   "source": []
  },
  {
   "cell_type": "code",
   "execution_count": null,
   "metadata": {
    "id": "ZQrjf5DQeVbz"
   },
   "outputs": [],
   "source": []
  },
  {
   "cell_type": "code",
   "execution_count": null,
   "metadata": {
    "id": "YkYjvp8heVZM"
   },
   "outputs": [],
   "source": []
  },
  {
   "cell_type": "code",
   "execution_count": null,
   "metadata": {
    "id": "MIzdSmwaZ-GS"
   },
   "outputs": [],
   "source": []
  },
  {
   "cell_type": "code",
   "execution_count": null,
   "metadata": {
    "id": "CTGRgUOZZ-Dy"
   },
   "outputs": [],
   "source": []
  },
  {
   "cell_type": "code",
   "execution_count": null,
   "metadata": {
    "id": "NVzfVT4CZ-Bc"
   },
   "outputs": [],
   "source": []
  },
  {
   "cell_type": "code",
   "execution_count": null,
   "metadata": {
    "id": "EYhLPvbsZ9-6"
   },
   "outputs": [],
   "source": []
  },
  {
   "cell_type": "code",
   "execution_count": null,
   "metadata": {
    "id": "lq8efYaLZ98k"
   },
   "outputs": [],
   "source": []
  }
 ],
 "metadata": {
  "colab": {
   "provenance": []
  },
  "kernelspec": {
   "display_name": "Python 3",
   "language": "python",
   "name": "python3"
  },
  "language_info": {
   "codemirror_mode": {
    "name": "ipython",
    "version": 3
   },
   "file_extension": ".py",
   "mimetype": "text/x-python",
   "name": "python",
   "nbconvert_exporter": "python",
   "pygments_lexer": "ipython3",
   "version": "3.11.9"
  }
 },
 "nbformat": 4,
 "nbformat_minor": 0
}
